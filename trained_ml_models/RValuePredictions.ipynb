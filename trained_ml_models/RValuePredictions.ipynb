{
 "cells": [
  {
   "cell_type": "code",
   "execution_count": null,
   "metadata": {},
   "outputs": [],
   "source": [
    "import pandas as pd\n",
    "import numpy as np\n",
    "import csv\n",
    "\n",
    "from datetime import datetime, date\n",
    "import matplotlib.pyplot as plt\n",
    "\n",
    "input_features = [\n",
    "    'pct_cmnty_cli',\n",
    "    'pct_cli',\n",
    "    'pct_cli_anosmia_ageusia',\n",
    "    'pct_hh_cli',\n",
    "]"
   ]
  },
  {
   "cell_type": "code",
   "execution_count": null,
   "metadata": {},
   "outputs": [],
   "source": [
    "newcases = (pd.read_csv(\"../mcmc_model_data/time_series_Confirmed_CMU_fips.csv\")).iloc[:,1:]\n",
    "newcases.iloc[:,2:] = np.array(newcases.iloc[:,2:]) - np.array(newcases.iloc[:,1:-1])\n",
    "indnames = newcases.pop(\"FIPS\")\n",
    "newcases = newcases.rename(index = indnames,\n",
    "                           columns = lambda x: datetime.strptime(x, \"%m/%d/%y\").strftime(\"%Y-%m-%d\")).T\n",
    "newcases = newcases.rolling(7).mean().iloc[6:,:].T\n",
    "\n",
    "R = pd.read_csv(\"../mcmc_model_data/RValuesCMU_fips.csv\", index_col='fips')\n",
    "R.pop(\"Jurisdiction\")\n",
    "R = R.loc[R.index != 44003,:]\n",
    "fips = np.array([12086, 4013, 6037, 12011,\n",
    "                 48201, 48113, 6059, 32003,\n",
    "                 12057, 12095, 6065, 48029,\n",
    "                 6071, 12099, 12031,\n",
    "                 48439, 6073, 48215])\n",
    "idx = [x in fips for x in R.index]\n",
    "R = R.loc[idx,:]\n",
    "R = R.sort_index()\n",
    "\n",
    "# The index for newcases is the fips value\n",
    "idx = [x in fips for x in newcases.index]\n",
    "newcases = newcases.loc[idx,:]\n",
    "newcases = newcases.sort_index()\n",
    "newcases_dates = [datetime.strptime(x,\"%Y-%m-%d\").date() for x in newcases.columns]\n",
    "\n",
    "cmudf = pd.read_csv(\"../overall-county-smoothed.csv\").query(\"gender=='overall' & age_bucket=='overall'\")\n",
    "\n",
    "# Set the index as the identifier for the extracted features\n",
    "def extract_feature(col_name):\n",
    "    df = pd.pivot_table(cmudf, values=col_name, index='fips', columns='date',\n",
    "                        fill_value = 0, aggfunc = np.mean)\n",
    "    idx = [x in fips for x in df.index]\n",
    "    df = df.loc[idx,:]\n",
    "    df = df.sort_index()\n",
    "    return df\n",
    "\n",
    "cli = extract_feature(\"smoothed_pct_cli\")\n",
    "\n",
    "R_dates = [datetime.strptime(x,\"%Y-%m-%d\").date() for x in R.columns[1:]]\n",
    "cli_dates = [datetime.strptime(x,\"%Y-%m-%d\").date() for x in cli.columns]\n",
    "R = R.loc[:,[False,*[np.min(cli_dates) <= d <= np.max(cli_dates) for d in R_dates]]]\n",
    "\n",
    "R_dates = [datetime.strptime(x,\"%Y-%m-%d\").date() for x in R.columns]\n",
    "newcases = newcases.loc[:,[*[np.min(cli_dates) <= d <= np.max(cli_dates) for d in newcases_dates]]]\n",
    "newcases_dates = [datetime.strptime(x,\"%Y-%m-%d\").date() for x in newcases.columns]\n",
    "newcases = newcases.loc[:,[*[np.min(R_dates) <= d <= np.max(R_dates) for d in newcases_dates]]]\n",
    "\n",
    "np_newcases = newcases.to_numpy().clip(min=0)\n",
    "np_newcases = np_newcases.reshape(np_newcases.shape[0], np_newcases.shape[1], 1)\n",
    "\n",
    "np_inp = np.ndarray([*R.shape, 0], dtype = np.float32)\n",
    "for name in input_features:\n",
    "    feature = extract_feature(f\"smoothed_{name}_weighted\")\n",
    "    feature_dates = [datetime.strptime(x,\"%Y-%m-%d\").date() for x in feature.columns]\n",
    "    feature = feature.loc[:,[np.min(R_dates) <= d <= np.max(R_dates) for d in feature_dates]]\n",
    "    np_inp = np.concatenate((np_inp, feature.to_numpy().reshape([*feature.shape,1])), axis=2)\n",
    "np_inp = np.concatenate((np_inp, np_newcases), axis=2)\n",
    "np_R = R.to_numpy()"
   ]
  },
  {
   "cell_type": "code",
   "execution_count": null,
   "metadata": {},
   "outputs": [],
   "source": [
    "d = next(i for i,d in enumerate(R_dates) if d >= date(2020, 6, 17))\n",
    "pred_inp = np_inp[:,range(d-20,d+1),:]\n",
    "for i in range(pred_inp.shape[0]):\n",
    "    pred_inp[i,:,-1] = pred_inp[i,:,-1] / pred_inp[i,:,-1].max() * 100\n",
    "pred_inp /= 100\n",
    "pred_inp.shape"
   ]
  },
  {
   "cell_type": "code",
   "execution_count": null,
   "metadata": {},
   "outputs": [],
   "source": [
    "import os\n",
    "os.environ[\"CUDA_VISIBLE_DEVICES\"] = \"1\"\n",
    "\n",
    "import tensorflow as tf\n",
    "from tensorflow import keras\n",
    "from tensorflow.keras import layers\n",
    "\n",
    "gpus = tf.config.experimental.list_physical_devices('GPU')\n",
    "if gpus:\n",
    "  try:\n",
    "    # Currently, memory growth needs to be the same across GPUs\n",
    "    for gpu in gpus:\n",
    "      tf.config.experimental.set_memory_growth(gpu, True)\n",
    "    logical_gpus = tf.config.experimental.list_logical_devices('GPU')\n",
    "    print(len(gpus), \"Physical GPUs,\", len(logical_gpus), \"Logical GPUs\")\n",
    "  except RuntimeError as e:\n",
    "    # Memory growth must be set before GPUs have been initialized\n",
    "    print(e)"
   ]
  },
  {
   "cell_type": "code",
   "execution_count": null,
   "metadata": {},
   "outputs": [],
   "source": [
    "cli_model = keras.models.load_model(\"cli_model\")\n",
    "cli_R = 3.9287667 * cli_model.predict(pred_inp)\n",
    "cases_model = keras.models.load_model(\"cases_model\")\n",
    "cases_R = 3.9287667 * cases_model.predict(pred_inp[:,:,-1].reshape((18,21,1)))"
   ]
  },
  {
   "cell_type": "code",
   "execution_count": null,
   "metadata": {},
   "outputs": [],
   "source": [
    "actual_R = np_R[:,range(d + 1, d + 22)]\n",
    "df = pd.DataFrame({\"Prediction Cases\": cases_R[:,6],\n",
    "                   \"Prediction CLI\": cli_R[:,6],\n",
    "                   \"Measured\": actual_R[:,6],\n",
    "                   \"Constant R\": actual_R[:,0],})\n",
    "#(actual_R - pred_R)[:,6]\n",
    "df"
   ]
  },
  {
   "cell_type": "code",
   "execution_count": null,
   "metadata": {},
   "outputs": [],
   "source": [
    "from datetime import timedelta\n",
    "tmp = pd.DataFrame(dict([(date(2020,6,18) + timedelta(days=i), cases_R[:,i]) for i in range(0, cases_R.shape[1])]),\n",
    "                   index = fips)\n",
    "tmp.to_csv(\"cases_Rs_0617.csv\", index_label = \"fips\")\n",
    "tmp = pd.DataFrame(dict([(date(2020,6,18) + timedelta(days=i), cli_R[:,i]) for i in range(0, cli_R.shape[1])]),\n",
    "                   index = fips)\n",
    "tmp.to_csv(\"cli_Rs_0617.csv\", index_label = \"fips\")\n",
    "tmp"
   ]
  },
  {
   "cell_type": "code",
   "execution_count": null,
   "metadata": {},
   "outputs": [],
   "source": []
  }
 ],
 "metadata": {
  "@webio": {
   "lastCommId": null,
   "lastKernelId": null
  },
  "kernelspec": {
   "display_name": "Conda Python 3",
   "language": "python",
   "name": "condapython3"
  },
  "language_info": {
   "codemirror_mode": {
    "name": "ipython",
    "version": 3
   },
   "file_extension": ".py",
   "mimetype": "text/x-python",
   "name": "python",
   "nbconvert_exporter": "python",
   "pygments_lexer": "ipython3",
   "version": "3.8.3"
  }
 },
 "nbformat": 4,
 "nbformat_minor": 4
}
